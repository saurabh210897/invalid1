{
 "cells": [
  {
   "cell_type": "code",
   "execution_count": 3,
   "id": "5f10ab0c-aeb4-44ae-b94d-96c19d288056",
   "metadata": {},
   "outputs": [],
   "source": [
    "#Q1. Crate a function which will take a list as an argument and return the product of all the numbers \n",
    "# after creating a flat list.\n",
    "\n",
    "# Use the below-given list as an argument for your function.\n",
    "\n",
    "\n",
    "# list1 = [1,2,3,4, [44,55,66, True], False, (34,56,78,89,34), {1,2,3,3,2,1}, {1:34, \"key2\": [55, 67, 78, 89], 4: (45, \n",
    "# 22, 61, 34)}, [56, 'data science'], 'Machine Learning']\n",
    "\n",
    "\n",
    "# Note: you must extract numeric keys and values of the dictionary also."
   ]
  },
  {
   "cell_type": "code",
   "execution_count": 8,
   "id": "f9bd1b2a-7240-4830-bf03-7b02cca8c6e7",
   "metadata": {},
   "outputs": [],
   "source": [
    "def product_of_numbers(list1):\n",
    "    flat_list = []\n",
    "    for item in list1:\n",
    "        if type(item) == list:\n",
    "            flat_list += item\n",
    "        elif type(item) == dict:\n",
    "            for key, value in item.items():\n",
    "                if isinstance(key, (int, float)):\n",
    "                    flat_list.append(key)\n",
    "                if isinstance(value, (int, float)):\n",
    "                    flat_list.append(value)\n",
    "        else:\n",
    "            if isinstance(item, (int, float)):\n",
    "                flat_list.append(item)\n",
    "\n",
    "    product = 1\n",
    "    for num in flat_list:\n",
    "        product *= num\n",
    "\n",
    "    return product\n"
   ]
  },
  {
   "cell_type": "code",
   "execution_count": 9,
   "id": "43bd3ce1-7ede-4b55-bef8-d65ae63014c3",
   "metadata": {},
   "outputs": [
    {
     "name": "stdout",
     "output_type": "stream",
     "text": [
      "\n"
     ]
    }
   ],
   "source": [
    "list1 = [1,2,3,4, [44,55,66, True], False, (34,56,78,89,34), {1,2,3,3,2,1}, {1:34, \"key2\": [55, 67, 78, 89], 4: (45, 22, 61, 34)}, [56, 'data science'], 'Machine Learning']\n",
    "\n",
    "print(product_of_numbers(list1))  \n"
   ]
  },
  {
   "cell_type": "code",
   "execution_count": 10,
   "id": "1dad46e2-d2ae-4a66-8ee2-825538556a27",
   "metadata": {},
   "outputs": [],
   "source": [
    "#Q2. Write a python program for encrypting a message sent to you by your friend. The logic of encryption \n",
    "# should be such that, for a the output should be z. For b, the output should be y. For c, the output should \n",
    "# be x respectively. Also, the whitespace should be replaced with a dollar sign. Keep the punctuation \n",
    "# marks unchanged.\n",
    "\n",
    "\n",
    "# Input Sentence: I want to become a Data Scientist.\n",
    "\n",
    "\n",
    "# Encrypt the above input sentence using the program you just created.\n",
    "\n",
    "\n",
    "# Note: Convert the given input sentence into lowercase before encrypting. The final output should be \n",
    "# lowercase"
   ]
  },
  {
   "cell_type": "code",
   "execution_count": 15,
   "id": "66d5e619-0146-4a07-9f70-a486b5b110d0",
   "metadata": {},
   "outputs": [
    {
     "name": "stdin",
     "output_type": "stream",
     "text": [
      "Enter the word I want to become a Data Scientist.\n"
     ]
    },
    {
     "name": "stdout",
     "output_type": "stream",
     "text": [
      "r$dzmg$gl$yvxlnv$z$wzgz$hxrvmgrhg.\n"
     ]
    }
   ],
   "source": [
    "def encrypt_message(message):\n",
    "    message = message.lower()                                                   # Convert to lowercase\n",
    "    encrypted_message = \"\"\n",
    "    for char in message:\n",
    "        if char.isalpha():                                                      # Check if character is an alphabet\n",
    "            encrypted_message += chr(ord('a') + ord('z') - ord(char))           # Apply encryption logic\n",
    "        elif char.isspace():                                                    # Check if character is a space\n",
    "            encrypted_message += \"$\"                                            # Replace with a dollar sign\n",
    "        else:\n",
    "            encrypted_message += char                                           # Keep punctuation marks unchanged\n",
    "    return encrypted_message\n",
    "\n",
    "input_sentence = input(\"Enter the word\")\n",
    "encrypted_sentence = encrypt_message(input_sentence)\n",
    "print(encrypted_sentence)                                                       # Output: r dzmw gl yvnvzn z wzw hgvoolxp."
   ]
  },
  {
   "cell_type": "code",
   "execution_count": null,
   "id": "928a0502-b18a-4d2a-aca7-a5554b1856c5",
   "metadata": {},
   "outputs": [],
   "source": []
  }
 ],
 "metadata": {
  "kernelspec": {
   "display_name": "Python 3 (ipykernel)",
   "language": "python",
   "name": "python3"
  },
  "language_info": {
   "codemirror_mode": {
    "name": "ipython",
    "version": 3
   },
   "file_extension": ".py",
   "mimetype": "text/x-python",
   "name": "python",
   "nbconvert_exporter": "python",
   "pygments_lexer": "ipython3",
   "version": "3.10.8"
  }
 },
 "nbformat": 4,
 "nbformat_minor": 5
}
